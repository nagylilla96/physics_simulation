{
  "nbformat": 4,
  "nbformat_minor": 0,
  "metadata": {
    "colab": {
      "provenance": [],
      "private_outputs": true,
      "toc_visible": true
    },
    "kernelspec": {
      "name": "python3",
      "display_name": "Python 3"
    },
    "language_info": {
      "name": "python"
    },
    "accelerator": "GPU"
  },
  "cells": [
    {
      "cell_type": "markdown",
      "source": [
        "# Cosmos PoC"
      ],
      "metadata": {
        "id": "cqNveIuxs2lz"
      }
    },
    {
      "cell_type": "markdown",
      "source": [
        "A Colab runtime with GPU acceleration is required. If you're using a CPU-only runtime, you can switch using the menu \"Runtime > Change runtime type\"."
      ],
      "metadata": {
        "id": "AU-PUcmCsuz6"
      }
    },
    {
      "cell_type": "markdown",
      "source": [
        "# Installing dm_control"
      ],
      "metadata": {
        "id": "4fLZ0nJvs_Jx"
      }
    },
    {
      "cell_type": "code",
      "execution_count": null,
      "metadata": {
        "id": "fA154afisfFU"
      },
      "outputs": [],
      "source": [
        "#@title Run to install MuJoCo and `dm_control`\n",
        "import distutils.util\n",
        "import subprocess\n",
        "if subprocess.run('nvidia-smi').returncode:\n",
        "  raise RuntimeError(\n",
        "      'Cannot communicate with GPU. '\n",
        "      'Make sure you are using a GPU Colab runtime. '\n",
        "      'Go to the Runtime menu and select Choose runtime type.')\n",
        "\n",
        "print('Installing dm_control...')\n",
        "!pip install -q dm_control>=1.0.7\n",
        "\n",
        "# Configure dm_control to use the EGL rendering backend (requires GPU)\n",
        "%env MUJOCO_GL=egl\n",
        "\n",
        "print('Checking that the dm_control installation succeeded...')\n",
        "try:\n",
        "  from dm_control import suite\n",
        "  env = suite.load('cartpole', 'swingup')\n",
        "  pixels = env.physics.render()\n",
        "except Exception as e:\n",
        "  raise e from RuntimeError(\n",
        "      'Something went wrong during installation. Check the shell output above '\n",
        "      'for more information.\\n'\n",
        "      'If using a hosted Colab runtime, make sure you enable GPU acceleration '\n",
        "      'by going to the Runtime menu and selecting \"Choose runtime type\".')\n",
        "else:\n",
        "  del pixels, suite\n",
        "\n",
        "!echo Installed dm_control $(pip show dm_control | grep -Po \"(?<=Version: ).+\")"
      ]
    },
    {
      "cell_type": "markdown",
      "source": [
        "# Imports\n",
        "\n",
        "Run both of these cells:"
      ],
      "metadata": {
        "id": "SeyLCxoPstwM"
      }
    },
    {
      "cell_type": "code",
      "source": [
        "#@title All `dm_control` imports required for this tutorial\n",
        "\n",
        "# The basic mujoco wrapper.\n",
        "from dm_control import mujoco\n",
        "\n",
        "# Access to enums and MuJoCo library functions.\n",
        "from dm_control.mujoco.wrapper.mjbindings import enums\n",
        "from dm_control.mujoco.wrapper.mjbindings import mjlib\n",
        "\n",
        "# PyMJCF\n",
        "from dm_control import mjcf\n",
        "\n",
        "# Composer high level imports\n",
        "from dm_control import composer\n",
        "from dm_control.composer.observation import observable\n",
        "from dm_control.composer import variation\n",
        "\n",
        "# Imports for Composer tutorial example\n",
        "from dm_control.composer.variation import distributions\n",
        "from dm_control.composer.variation import noises\n",
        "from dm_control.locomotion.arenas import floors\n",
        "\n",
        "# Control Suite\n",
        "from dm_control import suite\n",
        "\n",
        "# Run through corridor example\n",
        "from dm_control.locomotion.walkers import cmu_humanoid\n",
        "from dm_control.locomotion.arenas import corridors as corridor_arenas\n",
        "from dm_control.locomotion.tasks import corridors as corridor_tasks\n",
        "\n",
        "# Soccer\n",
        "from dm_control.locomotion import soccer\n",
        "\n",
        "# Manipulation\n",
        "from dm_control import manipulation"
      ],
      "metadata": {
        "id": "vywJ_9UstVwj"
      },
      "execution_count": null,
      "outputs": []
    },
    {
      "cell_type": "code",
      "source": [
        "#@title Other imports and helper functions\n",
        "\n",
        "# General\n",
        "import copy\n",
        "import os\n",
        "import itertools\n",
        "from IPython.display import clear_output\n",
        "import numpy as np\n",
        "\n",
        "# Graphics-related\n",
        "import matplotlib\n",
        "import matplotlib.animation as animation\n",
        "import matplotlib.pyplot as plt\n",
        "from IPython.display import HTML\n",
        "import PIL.Image\n",
        "# Internal loading of video libraries.\n",
        "\n",
        "# Use svg backend for figure rendering\n",
        "%config InlineBackend.figure_format = 'svg'\n",
        "\n",
        "# Font sizes\n",
        "SMALL_SIZE = 8\n",
        "MEDIUM_SIZE = 10\n",
        "BIGGER_SIZE = 12\n",
        "plt.rc('font', size=SMALL_SIZE)          # controls default text sizes\n",
        "plt.rc('axes', titlesize=SMALL_SIZE)     # fontsize of the axes title\n",
        "plt.rc('axes', labelsize=MEDIUM_SIZE)    # fontsize of the x and y labels\n",
        "plt.rc('xtick', labelsize=SMALL_SIZE)    # fontsize of the tick labels\n",
        "plt.rc('ytick', labelsize=SMALL_SIZE)    # fontsize of the tick labels\n",
        "plt.rc('legend', fontsize=SMALL_SIZE)    # legend fontsize\n",
        "plt.rc('figure', titlesize=BIGGER_SIZE)  # fontsize of the figure title\n",
        "\n",
        "# Inline video helper function\n",
        "if os.environ.get('COLAB_NOTEBOOK_TEST', False):\n",
        "  # We skip video generation during tests, as it is quite expensive.\n",
        "  display_video = lambda *args, **kwargs: None\n",
        "else:\n",
        "  def display_video(frames, framerate=30):\n",
        "    height, width, _ = frames[0].shape\n",
        "    dpi = 70\n",
        "    orig_backend = matplotlib.get_backend()\n",
        "    matplotlib.use('Agg')  # Switch to headless 'Agg' to inhibit figure rendering.\n",
        "    fig, ax = plt.subplots(1, 1, figsize=(width / dpi, height / dpi), dpi=dpi)\n",
        "    matplotlib.use(orig_backend)  # Switch back to the original backend.\n",
        "    ax.set_axis_off()\n",
        "    ax.set_aspect('equal')\n",
        "    ax.set_position([0, 0, 1, 1])\n",
        "    im = ax.imshow(frames[0])\n",
        "    def update(frame):\n",
        "      im.set_data(frame)\n",
        "      return [im]\n",
        "    interval = 1000/framerate\n",
        "    anim = animation.FuncAnimation(fig=fig, func=update, frames=frames,\n",
        "                                   interval=interval, blit=True, repeat=False)\n",
        "    return HTML(anim.to_html5_video())\n",
        "\n",
        "# Seed numpy's global RNG so that cell outputs are deterministic. We also try to\n",
        "# use RandomState instances that are local to a single cell wherever possible.\n",
        "np.random.seed(42)"
      ],
      "metadata": {
        "id": "abjpzJ-_tYDf"
      },
      "execution_count": null,
      "outputs": []
    },
    {
      "cell_type": "markdown",
      "source": [
        "# Planet orbiting around a \"sun\""
      ],
      "metadata": {
        "id": "vdp3xC3dtbQe"
      }
    },
    {
      "cell_type": "code",
      "source": [
        "#@title The orbit model{vertical-output: true}\n",
        "\n",
        "orbit = \"\"\"\n",
        "<mujoco model=\"orbit\">\n",
        "  <option integrator=\"RK4\"/>\n",
        "  <worldbody>\n",
        "    <light pos=\"0 0 .6\"/>\n",
        "    <camera name=\"closeup\" pos=\"0 -.1 .07\" xyaxes=\"1 0 0 0 1 2\"/>\n",
        "    <body name=\"top\" pos=\"0 0 .02\">\n",
        "      <freejoint/>\n",
        "      <geom name=\"ball\" type=\"sphere\" size=\".02\" rgba=\"1 .62 .05 1\"/>\n",
        "      <geom name=\"stem\" type=\"sphere\" pos=\".03 0 0\" size=\"0.004\" rgba=\".43 .89 .96 1\"/>\n",
        "      <geom name=\"ballast\" type=\"box\" size=\".023 .023 0.005\"  pos=\"0 0 -.015\" \n",
        "       contype=\"0\" conaffinity=\"0\" group=\"3\"/>\n",
        "    </body>\n",
        "  </worldbody>\n",
        "  <option>\n",
        "    <flag gravity=\"disable\"/>\n",
        "  </option>\n",
        "  <keyframe>\n",
        "    <key name=\"spinning\" qpos=\"0 0 0.02 1 0 0 0\" qvel=\"0 0 0 0 0 2.5\" />\n",
        "  </keyframe>\n",
        "</mujoco>\n",
        "\"\"\"\n",
        "physics_orbit = mujoco.Physics.from_xml_string(orbit)\n",
        "PIL.Image.fromarray(physics_orbit.render(camera_id='closeup'))"
      ],
      "metadata": {
        "id": "D3XhXs4gths7"
      },
      "execution_count": null,
      "outputs": []
    },
    {
      "cell_type": "code",
      "source": [
        "#@title Video of the orbit {vertical-output: true}\n",
        "\n",
        "duration = 7    # (seconds)\n",
        "framerate = 60  # (Hz)\n",
        "\n",
        "# Simulate and display video.\n",
        "frames = []\n",
        "physics_orbit.reset(0)  # Reset to keyframe 0 (load a saved state).\n",
        "while physics_orbit.data.time < duration:\n",
        "  physics_orbit.step()\n",
        "  if len(frames) < (physics_orbit.data.time) * framerate:\n",
        "    pixels = physics_orbit.render(camera_id='closeup')\n",
        "    frames.append(pixels)\n",
        "\n",
        "display_video(frames, framerate)"
      ],
      "metadata": {
        "id": "0zOlHWmiuNqP"
      },
      "execution_count": null,
      "outputs": []
    },
    {
      "cell_type": "markdown",
      "source": [
        "# Falling ball"
      ],
      "metadata": {
        "id": "e75MP_FLvITa"
      }
    },
    {
      "cell_type": "code",
      "source": [
        "#@title The falling ball model{vertical-output: true}\n",
        "\n",
        "falling_ball = \"\"\"\n",
        "<mujoco model=\"falling ball\">\n",
        "  <option integrator=\"RK4\"/>\n",
        "  <asset>\n",
        "    <texture name=\"grid\" type=\"2d\" builtin=\"checker\" rgb1=\".1 .2 .3\" \n",
        "     rgb2=\".2 .3 .4\" width=\"300\" height=\"300\"/>\n",
        "    <material name=\"grid\" texture=\"grid\" texrepeat=\"8 8\" reflectance=\".2\"/>\n",
        "  </asset>\n",
        "  <visual>\n",
        "    <map stiffness=\"0\" force=\"100\"/>\n",
        "  </visual>\n",
        "  <worldbody>\n",
        "    <geom size=\".2 .2 .01\" type=\"plane\" material=\"grid\"/>\n",
        "    <light pos=\"0 0 .6\"/>\n",
        "    <camera name=\"closeup\" pos=\"0 -.1 .07\" xyaxes=\"1 0 0 0 1 2\"/>\n",
        "    <body name=\"top\" pos=\"0 0 .02\">\n",
        "      <joint name=\"ball\" type=\"free\" pos=\"0 0 0\" stiffness=\".073\"/>\n",
        "      <geom type=\"sphere\" pos=\"0 0 .02\" size=\"0.004\"/>\n",
        "    </body>\n",
        "  </worldbody>\n",
        "  <option>\n",
        "    <flag refsafe=\"disable\"/>\n",
        "  </option>\n",
        "</mujoco>\n",
        "\"\"\"\n",
        "physics_ball = mujoco.Physics.from_xml_string(falling_ball)\n",
        "PIL.Image.fromarray(physics_ball.render(camera_id='closeup'))"
      ],
      "metadata": {
        "id": "vwUe8nlnvJu8"
      },
      "execution_count": null,
      "outputs": []
    },
    {
      "cell_type": "code",
      "source": [
        "#@title Video of the falling ball {vertical-output: true}\n",
        "\n",
        "duration = 7    # (seconds)\n",
        "framerate = 60  # (Hz)\n",
        "\n",
        "# Simulate and display video.\n",
        "frames = []\n",
        "# physics_ball.reset(0)  # Reset to keyframe 0 (load a saved state).\n",
        "while physics_ball.data.time < duration:\n",
        "  physics_ball.step()\n",
        "  if len(frames) < (physics_ball.data.time) * framerate:\n",
        "    pixels = physics_ball.render(camera_id='closeup')\n",
        "    frames.append(pixels)\n",
        "\n",
        "display_video(frames, framerate)"
      ],
      "metadata": {
        "id": "pvvyNQvivoho"
      },
      "execution_count": null,
      "outputs": []
    },
    {
      "cell_type": "markdown",
      "source": [
        "# Falling ball with smaller gravity but same stiffness"
      ],
      "metadata": {
        "id": "hVymOPQgDMXn"
      }
    },
    {
      "cell_type": "code",
      "source": [
        "#@title The falling ball model with smaller gravity but same stiffness{vertical-output: true}\n",
        "\n",
        "falling_ball = \"\"\"\n",
        "<mujoco model=\"falling ball\">\n",
        "  <option integrator=\"RK4\"/>\n",
        "  <asset>\n",
        "    <texture name=\"grid\" type=\"2d\" builtin=\"checker\" rgb1=\".1 .2 .3\" \n",
        "     rgb2=\".2 .3 .4\" width=\"300\" height=\"300\"/>\n",
        "    <material name=\"grid\" texture=\"grid\" texrepeat=\"8 8\" reflectance=\".2\"/>\n",
        "  </asset>\n",
        "  <visual>\n",
        "    <map stiffness=\"0\" force=\"100\"/>\n",
        "  </visual>\n",
        "  <worldbody>\n",
        "    <geom size=\".2 .2 .01\" type=\"plane\" material=\"grid\"/>\n",
        "    <light pos=\"0 0 .6\"/>\n",
        "    <camera name=\"closeup\" pos=\"0 -.1 .07\" xyaxes=\"1 0 0 0 1 2\"/>\n",
        "    <body name=\"top\" pos=\"0 0 .02\">\n",
        "      <joint name=\"ball\" type=\"free\" pos=\"0 0 0\" stiffness=\".073\"/>\n",
        "      <geom type=\"sphere\" pos=\"0 0 .02\" size=\"0.004\"/>\n",
        "    </body>\n",
        "  </worldbody>\n",
        "  <option gravity=\"0 0 -5\">\n",
        "    <flag refsafe=\"disable\"/>\n",
        "  </option>\n",
        "</mujoco>\n",
        "\"\"\"\n",
        "physics_ball = mujoco.Physics.from_xml_string(falling_ball)\n",
        "PIL.Image.fromarray(physics_ball.render(camera_id='closeup'))"
      ],
      "metadata": {
        "id": "tK-LSqsXDQtD"
      },
      "execution_count": null,
      "outputs": []
    },
    {
      "cell_type": "code",
      "source": [
        "#@title Video of the falling ball with smaller gravity but stame stiffness {vertical-output: true}\n",
        "\n",
        "duration = 7    # (seconds)\n",
        "framerate = 60  # (Hz)\n",
        "\n",
        "# Simulate and display video.\n",
        "frames = []\n",
        "# physics_ball.reset(0)  # Reset to keyframe 0 (load a saved state).\n",
        "while physics_ball.data.time < duration:\n",
        "  physics_ball.step()\n",
        "  if len(frames) < (physics_ball.data.time) * framerate:\n",
        "    pixels = physics_ball.render(camera_id='closeup')\n",
        "    frames.append(pixels)\n",
        "\n",
        "display_video(frames, framerate)"
      ],
      "metadata": {
        "id": "dNTARFZZDhIN"
      },
      "execution_count": null,
      "outputs": []
    },
    {
      "cell_type": "markdown",
      "source": [
        "# Falling ball with very small gravity and no stiffness"
      ],
      "metadata": {
        "id": "0biR7GNOGTHf"
      }
    },
    {
      "cell_type": "code",
      "source": [
        "#@title The falling ball model with very small gravity and no stiffness {vertical-output: true}\n",
        "\n",
        "falling_ball = \"\"\"\n",
        "<mujoco model=\"falling ball\">\n",
        "  <option integrator=\"RK4\"/>\n",
        "  <asset>\n",
        "    <texture name=\"grid\" type=\"2d\" builtin=\"checker\" rgb1=\".1 .2 .3\" \n",
        "     rgb2=\".2 .3 .4\" width=\"300\" height=\"300\"/>\n",
        "    <material name=\"grid\" texture=\"grid\" texrepeat=\"8 8\" reflectance=\".2\"/>\n",
        "  </asset>\n",
        "  <visual>\n",
        "    <map stiffness=\"0\" force=\"100\"/>\n",
        "  </visual>\n",
        "  <worldbody>\n",
        "    <geom size=\".2 .2 .01\" type=\"plane\" material=\"grid\"/>\n",
        "    <light pos=\"0 0 .6\"/>\n",
        "    <camera name=\"closeup\" pos=\"0 -.1 .07\" xyaxes=\"1 0 0 0 1 2\"/>\n",
        "    <body name=\"top\" pos=\"0 0 .02\">\n",
        "      <joint name=\"ball\" type=\"free\" pos=\"0 0 0\"/>\n",
        "      <geom type=\"sphere\" pos=\"0 0 .02\" size=\"0.004\"/>\n",
        "    </body>\n",
        "  </worldbody>\n",
        "  <option gravity=\"0 0 -.1\">\n",
        "    <flag refsafe=\"disable\"/>\n",
        "  </option>\n",
        "</mujoco>\n",
        "\"\"\"\n",
        "physics_ball = mujoco.Physics.from_xml_string(falling_ball)\n",
        "PIL.Image.fromarray(physics_ball.render(camera_id='closeup'))"
      ],
      "metadata": {
        "id": "p3CNVq-SDzfA"
      },
      "execution_count": null,
      "outputs": []
    },
    {
      "cell_type": "code",
      "source": [
        "#@title Video of the falling ball with very small gravity and no stiffness {vertical-output: true}\n",
        "\n",
        "duration = 7    # (seconds)\n",
        "framerate = 60  # (Hz)\n",
        "\n",
        "# Simulate and display video.\n",
        "frames = []\n",
        "# physics_ball.reset(0)  # Reset to keyframe 0 (load a saved state).\n",
        "while physics_ball.data.time < duration:\n",
        "  physics_ball.step()\n",
        "  if len(frames) < (physics_ball.data.time) * framerate:\n",
        "    pixels = physics_ball.render(camera_id='closeup')\n",
        "    frames.append(pixels)\n",
        "\n",
        "display_video(frames, framerate)"
      ],
      "metadata": {
        "id": "o2aBr81ND3r_"
      },
      "execution_count": null,
      "outputs": []
    },
    {
      "cell_type": "markdown",
      "source": [
        "# Throwing a ball with a vertical velocity in the X direction"
      ],
      "metadata": {
        "id": "xnlfgPTnG6hb"
      }
    },
    {
      "cell_type": "code",
      "source": [
        "#@title The throwing ball model{vertical-output: true}\n",
        "\n",
        "ball_throwing = \"\"\"\n",
        "<mujoco model=\"ball throwing\">\n",
        "  <option integrator=\"RK4\"/>\n",
        "  <asset>\n",
        "    <texture name=\"grid\" type=\"2d\" builtin=\"checker\" rgb1=\".1 .2 .3\" \n",
        "     rgb2=\".2 .3 .4\" width=\"300\" height=\"300\"/>\n",
        "    <material name=\"grid\" texture=\"grid\" texrepeat=\"8 8\" reflectance=\".2\"/>\n",
        "  </asset>\n",
        "  <worldbody>\n",
        "    <geom size=\".2 .2 .01\" type=\"plane\" material=\"grid\"/>\n",
        "    <light pos=\"0 0 .6\"/>\n",
        "    <camera name=\"closeup\" pos=\"0 -.1 .07\" xyaxes=\"1 0 0 0 1 2\"/>\n",
        "    <body name=\"top\" pos=\"0 0 .02\">\n",
        "      <joint name=\"ball\" type=\"free\" pos=\"0 0 0\" stiffness=\".003\"/>\n",
        "      <geom name=\"ball\" type=\"sphere\" size=\".004\" pos=\"-.04 0 .02\"/>\n",
        "    </body>\n",
        "  </worldbody>\n",
        "  <keyframe>\n",
        "    <key name=\"spinning\" qpos=\"0 0 0.02 0 0 0 0\" qvel=\".5 0 0 0 0 0\" />\n",
        "  </keyframe>\n",
        "</mujoco>\n",
        "\"\"\"\n",
        "physics = mujoco.Physics.from_xml_string(ball_throwing)\n",
        "PIL.Image.fromarray(physics.render(camera_id='closeup'))"
      ],
      "metadata": {
        "id": "7_vhuHcLG8zp"
      },
      "execution_count": null,
      "outputs": []
    },
    {
      "cell_type": "code",
      "source": [
        "#@title Video of throwing a ball with a vertical velocity {vertical-output: true}\n",
        "\n",
        "duration = 1    # (seconds)\n",
        "framerate = 60  # (Hz)\n",
        "\n",
        "# Simulate and display video.\n",
        "frames = []\n",
        "physics.reset(0)  # Reset to keyframe 0 (load a saved state).\n",
        "while physics.data.time < duration:\n",
        "  physics.step()\n",
        "  if len(frames) < (physics.data.time) * framerate:\n",
        "    pixels = physics.render(camera_id='closeup')\n",
        "    frames.append(pixels)\n",
        "\n",
        "frames = frames + frames + frames\n",
        "\n",
        "display_video(frames, framerate)"
      ],
      "metadata": {
        "id": "ctWWkU_cHhAp"
      },
      "execution_count": null,
      "outputs": []
    },
    {
      "cell_type": "markdown",
      "source": [
        "# Throwing a ball verically with -5 gravity\n",
        "\n"
      ],
      "metadata": {
        "id": "91HHUtTRLQgk"
      }
    },
    {
      "cell_type": "code",
      "source": [
        "#@title Throwing a ball vertically with -5 gravity{vertical-output: true}\n",
        "\n",
        "ball_throwing = \"\"\"\n",
        "<mujoco model=\"ball throwing\">\n",
        "  <option integrator=\"RK4\"/>\n",
        "  <asset>\n",
        "    <texture name=\"grid\" type=\"2d\" builtin=\"checker\" rgb1=\".1 .2 .3\" \n",
        "     rgb2=\".2 .3 .4\" width=\"300\" height=\"300\"/>\n",
        "    <material name=\"grid\" texture=\"grid\" texrepeat=\"8 8\" reflectance=\".2\"/>\n",
        "  </asset>\n",
        "  <worldbody>\n",
        "    <geom size=\".2 .2 .01\" type=\"plane\" material=\"grid\"/>\n",
        "    <light pos=\"0 0 .6\"/>\n",
        "    <camera name=\"closeup\" pos=\"0 -.1 .07\" xyaxes=\"1 0 0 0 1 2\"/>\n",
        "    <body name=\"top\" pos=\"0 0 .02\">\n",
        "      <joint name=\"ball\" type=\"free\" pos=\"0 0 0\" stiffness=\".003\"/>\n",
        "      <geom name=\"ball\" type=\"sphere\" size=\".004\" pos=\"-.04 0 .02\"/>\n",
        "    </body>\n",
        "  </worldbody>\n",
        "  <keyframe>\n",
        "    <key name=\"spinning\" qpos=\"0 0 0.02 0 0 0 0\" qvel=\".5 0 0 0 0 0\" />\n",
        "  </keyframe>\n",
        "  <option gravity=\"0 0 -5\">\n",
        "    <flag refsafe=\"disable\"/>\n",
        "  </option>\n",
        "</mujoco>\n",
        "\"\"\"\n",
        "physics = mujoco.Physics.from_xml_string(ball_throwing)\n",
        "PIL.Image.fromarray(physics.render(camera_id='closeup'))"
      ],
      "metadata": {
        "id": "FaQCOeOzLSi0"
      },
      "execution_count": null,
      "outputs": []
    },
    {
      "cell_type": "code",
      "source": [
        "#@title Video of throwing a ball vertically with -5 gravity {vertical-output: true}\n",
        "\n",
        "duration = 1    # (seconds)\n",
        "framerate = 60  # (Hz)\n",
        "\n",
        "# Simulate and display video.\n",
        "frames = []\n",
        "physics.reset(0)  # Reset to keyframe 0 (load a saved state).\n",
        "while physics.data.time < duration:\n",
        "  physics.step()\n",
        "  if len(frames) < (physics.data.time) * framerate:\n",
        "    pixels = physics.render(camera_id='closeup')\n",
        "    frames.append(pixels)\n",
        "\n",
        "frames = frames + frames + frames\n",
        "\n",
        "display_video(frames, framerate)"
      ],
      "metadata": {
        "id": "goB6mtfnLZYF"
      },
      "execution_count": null,
      "outputs": []
    },
    {
      "cell_type": "markdown",
      "source": [
        "# Throwing a ball verically with -1 gravity"
      ],
      "metadata": {
        "id": "IADHFFqALljq"
      }
    },
    {
      "cell_type": "code",
      "source": [
        "#@title Throwing a ball vertically with -1 gravity{vertical-output: true}\n",
        "\n",
        "ball_throwing = \"\"\"\n",
        "<mujoco model=\"ball throwing\">\n",
        "  <option integrator=\"RK4\"/>\n",
        "  <asset>\n",
        "    <texture name=\"grid\" type=\"2d\" builtin=\"checker\" rgb1=\".1 .2 .3\" \n",
        "     rgb2=\".2 .3 .4\" width=\"300\" height=\"300\"/>\n",
        "    <material name=\"grid\" texture=\"grid\" texrepeat=\"8 8\" reflectance=\".2\"/>\n",
        "  </asset>\n",
        "  <worldbody>\n",
        "    <geom size=\".2 .2 .01\" type=\"plane\" material=\"grid\"/>\n",
        "    <light pos=\"0 0 .6\"/>\n",
        "    <camera name=\"closeup\" pos=\"0 -.1 .07\" xyaxes=\"1 0 0 0 1 2\"/>\n",
        "    <body name=\"top\" pos=\"0 0 .02\">\n",
        "      <joint name=\"ball\" type=\"free\" pos=\"0 0 0\" stiffness=\".003\"/>\n",
        "      <geom name=\"ball\" type=\"sphere\" size=\".004\" pos=\"-.04 0 .02\"/>\n",
        "    </body>\n",
        "  </worldbody>\n",
        "  <keyframe>\n",
        "    <key name=\"spinning\" qpos=\"0 0 0.02 0 0 0 0\" qvel=\".4 0 0 0 0 0\" />\n",
        "  </keyframe>\n",
        "  <option gravity=\"0 0 -1\">\n",
        "    <flag refsafe=\"disable\"/>\n",
        "  </option>\n",
        "</mujoco>\n",
        "\"\"\"\n",
        "physics = mujoco.Physics.from_xml_string(ball_throwing)\n",
        "PIL.Image.fromarray(physics.render(camera_id='closeup'))"
      ],
      "metadata": {
        "id": "hNXTWR-CLq4F"
      },
      "execution_count": null,
      "outputs": []
    },
    {
      "cell_type": "code",
      "source": [
        "#@title Video of throwing a ball vertically with -5 gravity {vertical-output: true}\n",
        "\n",
        "duration = 1    # (seconds)\n",
        "framerate = 60  # (Hz)\n",
        "\n",
        "# Simulate and display video.\n",
        "frames = []\n",
        "physics.reset(0)  # Reset to keyframe 0 (load a saved state).\n",
        "while physics.data.time < duration:\n",
        "  physics.step()\n",
        "  if len(frames) < (physics.data.time) * framerate:\n",
        "    pixels = physics.render(camera_id='closeup')\n",
        "    frames.append(pixels)\n",
        "\n",
        "frames = frames + frames + frames\n",
        "\n",
        "display_video(frames, framerate)"
      ],
      "metadata": {
        "id": "2OXej6HtLuHa"
      },
      "execution_count": null,
      "outputs": []
    }
  ]
}